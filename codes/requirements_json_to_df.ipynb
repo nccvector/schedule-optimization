{
 "cells": [
  {
   "cell_type": "code",
   "execution_count": 1,
   "metadata": {},
   "outputs": [],
   "source": [
    "from pandas.io.json import json_normalize\n",
    "import pandas as pd\n",
    "import json"
   ]
  },
  {
   "cell_type": "code",
   "execution_count": 2,
   "metadata": {},
   "outputs": [],
   "source": [
    "with open('E:/fiver projects/schedule-optimization/test/scenario1/fixtures/requirements.json') as f:\n",
    "    d = json.load(f)"
   ]
  },
  {
   "cell_type": "code",
   "execution_count": 3,
   "metadata": {
    "scrolled": true
   },
   "outputs": [
    {
     "data": {
      "text/html": [
       "<div>\n",
       "<style scoped>\n",
       "    .dataframe tbody tr th:only-of-type {\n",
       "        vertical-align: middle;\n",
       "    }\n",
       "\n",
       "    .dataframe tbody tr th {\n",
       "        vertical-align: top;\n",
       "    }\n",
       "\n",
       "    .dataframe thead th {\n",
       "        text-align: right;\n",
       "    }\n",
       "</style>\n",
       "<table border=\"1\" class=\"dataframe\">\n",
       "  <thead>\n",
       "    <tr style=\"text-align: right;\">\n",
       "      <th></th>\n",
       "      <th>timeStamp</th>\n",
       "      <th>workloadId</th>\n",
       "      <th>workloadName</th>\n",
       "      <th>requiredStaff</th>\n",
       "    </tr>\n",
       "  </thead>\n",
       "  <tbody>\n",
       "    <tr>\n",
       "      <td>0</td>\n",
       "      <td>2020-03-22 20:00:00+00:00</td>\n",
       "      <td>1</td>\n",
       "      <td>Calls</td>\n",
       "      <td>2</td>\n",
       "    </tr>\n",
       "    <tr>\n",
       "      <td>1</td>\n",
       "      <td>2020-03-22 20:15:00+00:00</td>\n",
       "      <td>1</td>\n",
       "      <td>Calls</td>\n",
       "      <td>2</td>\n",
       "    </tr>\n",
       "    <tr>\n",
       "      <td>2</td>\n",
       "      <td>2020-03-22 20:30:00+00:00</td>\n",
       "      <td>1</td>\n",
       "      <td>Calls</td>\n",
       "      <td>2</td>\n",
       "    </tr>\n",
       "    <tr>\n",
       "      <td>3</td>\n",
       "      <td>2020-03-22 20:45:00+00:00</td>\n",
       "      <td>1</td>\n",
       "      <td>Calls</td>\n",
       "      <td>2</td>\n",
       "    </tr>\n",
       "    <tr>\n",
       "      <td>4</td>\n",
       "      <td>2020-03-22 21:00:00+00:00</td>\n",
       "      <td>1</td>\n",
       "      <td>Calls</td>\n",
       "      <td>3</td>\n",
       "    </tr>\n",
       "    <tr>\n",
       "      <td>...</td>\n",
       "      <td>...</td>\n",
       "      <td>...</td>\n",
       "      <td>...</td>\n",
       "      <td>...</td>\n",
       "    </tr>\n",
       "    <tr>\n",
       "      <td>1339</td>\n",
       "      <td>2020-04-20 11:45:00+00:00</td>\n",
       "      <td>1</td>\n",
       "      <td>Calls</td>\n",
       "      <td>4</td>\n",
       "    </tr>\n",
       "    <tr>\n",
       "      <td>1340</td>\n",
       "      <td>2020-04-20 12:00:00+00:00</td>\n",
       "      <td>1</td>\n",
       "      <td>Calls</td>\n",
       "      <td>4</td>\n",
       "    </tr>\n",
       "    <tr>\n",
       "      <td>1341</td>\n",
       "      <td>2020-04-20 12:15:00+00:00</td>\n",
       "      <td>1</td>\n",
       "      <td>Calls</td>\n",
       "      <td>4</td>\n",
       "    </tr>\n",
       "    <tr>\n",
       "      <td>1342</td>\n",
       "      <td>2020-04-20 12:30:00+00:00</td>\n",
       "      <td>1</td>\n",
       "      <td>Calls</td>\n",
       "      <td>4</td>\n",
       "    </tr>\n",
       "    <tr>\n",
       "      <td>1343</td>\n",
       "      <td>2020-04-20 12:45:00+00:00</td>\n",
       "      <td>1</td>\n",
       "      <td>Calls</td>\n",
       "      <td>4</td>\n",
       "    </tr>\n",
       "  </tbody>\n",
       "</table>\n",
       "<p>1344 rows × 4 columns</p>\n",
       "</div>"
      ],
      "text/plain": [
       "                     timeStamp  workloadId workloadName  requiredStaff\n",
       "0    2020-03-22 20:00:00+00:00           1        Calls              2\n",
       "1    2020-03-22 20:15:00+00:00           1        Calls              2\n",
       "2    2020-03-22 20:30:00+00:00           1        Calls              2\n",
       "3    2020-03-22 20:45:00+00:00           1        Calls              2\n",
       "4    2020-03-22 21:00:00+00:00           1        Calls              3\n",
       "...                        ...         ...          ...            ...\n",
       "1339 2020-04-20 11:45:00+00:00           1        Calls              4\n",
       "1340 2020-04-20 12:00:00+00:00           1        Calls              4\n",
       "1341 2020-04-20 12:15:00+00:00           1        Calls              4\n",
       "1342 2020-04-20 12:30:00+00:00           1        Calls              4\n",
       "1343 2020-04-20 12:45:00+00:00           1        Calls              4\n",
       "\n",
       "[1344 rows x 4 columns]"
      ]
     },
     "execution_count": 3,
     "metadata": {},
     "output_type": "execute_result"
    }
   ],
   "source": [
    "shifts = json_normalize(data=d['requirements'], record_path='workloads', meta=['startTime'])\n",
    "\n",
    "# Converting start time to datetime\n",
    "shifts['startTime'] = pd.to_datetime(shifts['startTime'], errors='coerce')\n",
    "# Converting date time to timestamp\n",
    "shifts['timeStamp'] = pd.Series([pd.Timestamp(x) for x in shifts['startTime']])\n",
    "\n",
    "# Re-arranging columnds\n",
    "shifts = shifts[['timeStamp','workloadId','workloadName','requiredStaff']]\n",
    "shifts"
   ]
  },
  {
   "cell_type": "code",
   "execution_count": 4,
   "metadata": {
    "scrolled": true
   },
   "outputs": [
    {
     "data": {
      "text/plain": [
       "'Sunday'"
      ]
     },
     "execution_count": 4,
     "metadata": {},
     "output_type": "execute_result"
    }
   ],
   "source": [
    "shifts[ [x.date().month == 3 and x.date().day == 22 for x in shifts['timeStamp']] ].timeStamp[0].day_name()"
   ]
  },
  {
   "cell_type": "code",
   "execution_count": 19,
   "metadata": {},
   "outputs": [
    {
     "name": "stdout",
     "output_type": "stream",
     "text": [
      "0\n"
     ]
    }
   ],
   "source": [
    "# Finding difference between two shifts\n",
    "(shifts['timeStamp'][64] - shifts['timeStamp'][0]).total_seconds()/60/60 # Hours\n",
    "(shifts['timeStamp'][0] - shifts['timeStamp'][64])\n",
    "\n",
    "print(shifts['timeStamp'][0].minute)"
   ]
  },
  {
   "cell_type": "markdown",
   "metadata": {},
   "source": [
    "#### Note:\n",
    "Now the shifts can be represented by four values (year,month,day,time) and we can literally find the time in days,hours or minutes between shifts, it is safe to say that the shifts data structure is finalized"
   ]
  }
 ],
 "metadata": {
  "kernelspec": {
   "display_name": "Python 3",
   "language": "python",
   "name": "python3"
  },
  "language_info": {
   "codemirror_mode": {
    "name": "ipython",
    "version": 3
   },
   "file_extension": ".py",
   "mimetype": "text/x-python",
   "name": "python",
   "nbconvert_exporter": "python",
   "pygments_lexer": "ipython3",
   "version": "3.7.4"
  }
 },
 "nbformat": 4,
 "nbformat_minor": 2
}
